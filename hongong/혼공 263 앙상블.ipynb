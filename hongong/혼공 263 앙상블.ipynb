{
 "cells": [
  {
   "cell_type": "code",
   "execution_count": 1,
   "id": "3b2a155b",
   "metadata": {},
   "outputs": [],
   "source": [
    "# 대체적으로 성능이 좋은 알고리즘 (나무말고 숲을 봄)"
   ]
  },
  {
   "cell_type": "markdown",
   "id": "2f0b8c67",
   "metadata": {},
   "source": [
    "- 정형 데이터 : 데이터베이스나 엑셀로 표현할 수 있는 데이터, 앙상블 학습이 효과가 좋음\n",
    "- 비정형 데이터 : 데이터베이스나 엑셀로 표현하기 어려운 규칙성이 없는 데이터, 신경망 알고리즘을 사용해야함"
   ]
  },
  {
   "cell_type": "markdown",
   "id": "4ed0f3dd",
   "metadata": {},
   "source": [
    "### 1. 랜덤 포레스트\n",
    "\n",
    "- 안정적인 성능\n",
    "- 훈련 데이터에서 랜덤하게 샘플을 추출"
   ]
  },
  {
   "cell_type": "code",
   "execution_count": 3,
   "id": "783fea48",
   "metadata": {},
   "outputs": [
    {
     "name": "stdout",
     "output_type": "stream",
     "text": [
      "훈련입력데이터: (5197, 3)\n",
      "테스트입력데이터 (1300, 3)\n",
      "훈련타깃데이터: (5197,)\n",
      "테스트타깃데이터: (1300,)\n"
     ]
    }
   ],
   "source": [
    "# 데이터 준비\n",
    "import numpy as np\n",
    "import pandas as pd\n",
    "from sklearn.model_selection import train_test_split\n",
    "df = pd.read_csv('https://bit.ly/wine_csv_data')\n",
    "input_data = df[['alcohol','sugar','pH']].to_numpy()\n",
    "target_data = df['class'].to_numpy()\n",
    "\n",
    "train_input, test_input, train_target, test_target = train_test_split(input_data, target_data, test_size=0.2, random_state=42)\n",
    "\n",
    "print('훈련입력데이터:',train_input.shape)\n",
    "print('테스트입력데이터',test_input.shape)\n",
    "print('훈련타깃데이터:',train_target.shape)\n",
    "print('테스트타깃데이터:',test_target.shape)"
   ]
  },
  {
   "cell_type": "code",
   "execution_count": 6,
   "id": "4887366c",
   "metadata": {},
   "outputs": [
    {
     "name": "stdout",
     "output_type": "stream",
     "text": [
      "0.9973541965122431 0.8905151032797809\n"
     ]
    }
   ],
   "source": [
    "from sklearn.model_selection import cross_validate\n",
    "from sklearn.ensemble import RandomForestClassifier\n",
    "\n",
    "# n_jobs = -1 은 컴퓨터의 모든 CPU를 사용\n",
    "rf = RandomForestClassifier(n_jobs = -1, random_state = 42)\n",
    "scores = cross_validate(rf, train_input, train_target, return_train_score=True, n_jobs = -1)\n",
    "# 하이퍼 파라미터 조정 단계는 생략\n",
    "\n",
    "print(np.mean(scores['train_score']), np.mean(scores['test_score']))"
   ]
  },
  {
   "cell_type": "code",
   "execution_count": 7,
   "id": "8b1401f8",
   "metadata": {},
   "outputs": [
    {
     "name": "stdout",
     "output_type": "stream",
     "text": [
      "[0.23167441 0.50039841 0.26792718]\n"
     ]
    }
   ],
   "source": [
    "rf.fit(train_input, train_target)\n",
    "\n",
    "# 결정트리 특성 중요도 평가 : [0.12345626 0.86862934 0.0079144]\n",
    "# 랜덤 포레스트 특성 중요도 평가\n",
    "print(rf.feature_importances_)"
   ]
  },
  {
   "cell_type": "code",
   "execution_count": 9,
   "id": "a27ce07f",
   "metadata": {},
   "outputs": [
    {
     "name": "stdout",
     "output_type": "stream",
     "text": [
      "0.8934000384837406\n"
     ]
    }
   ],
   "source": [
    "# oob_score = True 를 하면 자체적으로 모델을 평가하여 점수 산출\n",
    "rf = RandomForestClassifier(oob_score=True, n_jobs=-1, random_state=42)\n",
    "rf.fit(train_input, train_target)\n",
    "print(rf.oob_score_)"
   ]
  },
  {
   "cell_type": "markdown",
   "id": "b768497c",
   "metadata": {},
   "source": [
    "### 2. 엑스트라 트리\n",
    "\n",
    "랜덤 포레스트에서 중복허용샘플링을 하지 않고 전체를 대상으로 훈련\n",
    "\n",
    "과대적합을 줄이고 검증점수를 높여줌\n",
    "\n",
    "학습 시간이 적음"
   ]
  },
  {
   "cell_type": "code",
   "execution_count": 11,
   "id": "c435b9ca",
   "metadata": {},
   "outputs": [
    {
     "name": "stdout",
     "output_type": "stream",
     "text": [
      "0.9974503966084433 0.8887848893166506\n"
     ]
    }
   ],
   "source": [
    "from sklearn.ensemble import ExtraTreesClassifier\n",
    "et = ExtraTreesClassifier(n_jobs=-1, random_state=42)\n",
    "scores = cross_validate(et, train_input, train_target, return_train_score=True, n_jobs=-1)\n",
    "print(np.mean(scores['train_score']), np.mean(scores['test_score']))"
   ]
  },
  {
   "cell_type": "code",
   "execution_count": 12,
   "id": "8b3ee56d",
   "metadata": {},
   "outputs": [
    {
     "name": "stdout",
     "output_type": "stream",
     "text": [
      "[0.20183568 0.52242907 0.27573525]\n"
     ]
    }
   ],
   "source": [
    "et.fit(train_input, train_target)\n",
    "print(et.feature_importances_)"
   ]
  },
  {
   "cell_type": "markdown",
   "id": "2bef2f3f",
   "metadata": {},
   "source": [
    "### 3. 그레이디언트 부스팅"
   ]
  },
  {
   "cell_type": "code",
   "execution_count": null,
   "id": "04c6bfd6",
   "metadata": {},
   "outputs": [],
   "source": []
  },
  {
   "cell_type": "code",
   "execution_count": null,
   "id": "fcbc67c5",
   "metadata": {},
   "outputs": [],
   "source": []
  },
  {
   "cell_type": "code",
   "execution_count": null,
   "id": "2ab52998",
   "metadata": {},
   "outputs": [],
   "source": []
  },
  {
   "cell_type": "code",
   "execution_count": null,
   "id": "2db0e073",
   "metadata": {},
   "outputs": [],
   "source": []
  },
  {
   "cell_type": "code",
   "execution_count": null,
   "id": "59bae9b8",
   "metadata": {},
   "outputs": [],
   "source": []
  },
  {
   "cell_type": "code",
   "execution_count": null,
   "id": "15ae52a9",
   "metadata": {},
   "outputs": [],
   "source": []
  },
  {
   "cell_type": "code",
   "execution_count": null,
   "id": "7834b823",
   "metadata": {},
   "outputs": [],
   "source": []
  },
  {
   "cell_type": "code",
   "execution_count": null,
   "id": "7482889d",
   "metadata": {},
   "outputs": [],
   "source": []
  },
  {
   "cell_type": "code",
   "execution_count": null,
   "id": "011e670c",
   "metadata": {},
   "outputs": [],
   "source": []
  },
  {
   "cell_type": "code",
   "execution_count": null,
   "id": "2d25f9e7",
   "metadata": {},
   "outputs": [],
   "source": []
  },
  {
   "cell_type": "code",
   "execution_count": null,
   "id": "3b19bc94",
   "metadata": {},
   "outputs": [],
   "source": []
  }
 ],
 "metadata": {
  "kernelspec": {
   "display_name": "Python 3 (ipykernel)",
   "language": "python",
   "name": "python3"
  },
  "language_info": {
   "codemirror_mode": {
    "name": "ipython",
    "version": 3
   },
   "file_extension": ".py",
   "mimetype": "text/x-python",
   "name": "python",
   "nbconvert_exporter": "python",
   "pygments_lexer": "ipython3",
   "version": "3.10.9"
  }
 },
 "nbformat": 4,
 "nbformat_minor": 5
}
