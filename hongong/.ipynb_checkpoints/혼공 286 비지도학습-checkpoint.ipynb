{
 "cells": [
  {
   "cell_type": "code",
   "execution_count": null,
   "id": "474c7377",
   "metadata": {},
   "outputs": [],
   "source": [
    "# 비지도 학습\n",
    "import numpy as np\n",
    "import matplotlib.pyplot as plt\n",
    "\n",
    "# npy파일 로드\n",
    "fruits = np.load('fruits_300.npy')"
   ]
  },
  {
   "cell_type": "code",
   "execution_count": 1,
   "id": "95e4fdcf",
   "metadata": {},
   "outputs": [
    {
     "name": "stderr",
     "output_type": "stream",
     "text": [
      "'wget'은(는) 내부 또는 외부 명령, 실행할 수 있는 프로그램, 또는\n",
      "배치 파일이 아닙니다.\n"
     ]
    }
   ],
   "source": [
    "# 배열 크기 확인\n",
    "print(fruits.shape)"
   ]
  },
  {
   "cell_type": "code",
   "execution_count": null,
   "id": "ca5ec67a",
   "metadata": {},
   "outputs": [],
   "source": [
    "# 첫번째 이미지의 첫번째 행\n",
    "print(fruits[0, 0,:])"
   ]
  },
  {
   "cell_type": "code",
   "execution_count": null,
   "id": "0e44ebd8",
   "metadata": {},
   "outputs": [],
   "source": [
    "# 사과를 imshow로 이미지 출력 (기본값 반전출력)\n",
    "plt.imshow(fruits[0], cmap='gray')\n",
    "plt.show()"
   ]
  },
  {
   "cell_type": "code",
   "execution_count": null,
   "id": "119b2132",
   "metadata": {},
   "outputs": [],
   "source": [
    "# 사과를 imshow로 이미지 출력 (반전 미적용)\n",
    "plt.imshow(fruits[0], cmap='gray_r')\n",
    "plt.show()"
   ]
  },
  {
   "cell_type": "code",
   "execution_count": null,
   "id": "4de2ed09",
   "metadata": {},
   "outputs": [],
   "source": [
    "# 바나나와 파인애플\n",
    "fig, axs = plt.subplots(1, 2)\n",
    "axs[0].imshow(fruits[100], cmap='gray_r')\n",
    "axs[1].imshow(fruits[200], cmap='gray_r')\n",
    "plt.show()"
   ]
  },
  {
   "cell_type": "code",
   "execution_count": null,
   "id": "97f93103",
   "metadata": {},
   "outputs": [],
   "source": [
    "# 1차원으로 펼치기\n",
    "apple = fruits[0:100].reshape(-1, 100*100)\n",
    "pineapple = fruits[100:200].reshape(-1, 100*100)\n",
    "banana = fruits[200:300].reshape(-1, 100*100)"
   ]
  },
  {
   "cell_type": "code",
   "execution_count": null,
   "id": "2fad7644",
   "metadata": {},
   "outputs": [],
   "source": [
    "# 사과 확인\n",
    "print(apple.shape)"
   ]
  },
  {
   "cell_type": "code",
   "execution_count": null,
   "id": "07f6f90c",
   "metadata": {},
   "outputs": [],
   "source": [
    "# 사과 샘플 100개에 대한 픽셀 평균값 계산\n",
    "print(apple.mean(axis=1))"
   ]
  },
  {
   "cell_type": "code",
   "execution_count": null,
   "id": "6c043df3",
   "metadata": {},
   "outputs": [],
   "source": [
    "# 히스토그램으로 그리기\n",
    "plt.hist(np.mean(apple, axis=1), alpha=0.8)\n",
    "plt.hist(np.mean(pineapple, axis=1), alpha=0.8)\n",
    "plt.hist(np.mean(banana, axis=1), alpha=0.8)\n",
    "plt.legend(['apple', 'pineapple', 'banana'])\n",
    "plt.show()"
   ]
  },
  {
   "cell_type": "code",
   "execution_count": null,
   "id": "ac29d0e5",
   "metadata": {},
   "outputs": [],
   "source": [
    "# 막대그래프로 그리기\n",
    "fig, axs = plt.subplots(1, 3, figsize=(20,5))\n",
    "axs[0].bar(range(10000), np.mean(apple, axis=0))\n",
    "axs[1].bar(range(10000), np.mean(pineapple, axis=0))\n",
    "axs[2].bar(range(10000), np.mean(banana, axis=0))\n",
    "plt.show()"
   ]
  },
  {
   "cell_type": "code",
   "execution_count": 2,
   "id": "faa5716c",
   "metadata": {},
   "outputs": [
    {
     "ename": "NameError",
     "evalue": "name 'np' is not defined",
     "output_type": "error",
     "traceback": [
      "\u001b[1;31m---------------------------------------------------------------------------\u001b[0m",
      "\u001b[1;31mNameError\u001b[0m                                 Traceback (most recent call last)",
      "Cell \u001b[1;32mIn[2], line 2\u001b[0m\n\u001b[0;32m      1\u001b[0m \u001b[38;5;66;03m# 픽셀 평균을 이미지로 출력\u001b[39;00m\n\u001b[1;32m----> 2\u001b[0m apple_mean \u001b[38;5;241m=\u001b[39m \u001b[43mnp\u001b[49m\u001b[38;5;241m.\u001b[39mmean(apple, axis\u001b[38;5;241m=\u001b[39m\u001b[38;5;241m0\u001b[39m)\u001b[38;5;241m.\u001b[39mreshape(\u001b[38;5;241m100\u001b[39m, \u001b[38;5;241m100\u001b[39m)\n\u001b[0;32m      3\u001b[0m pineapple_mean \u001b[38;5;241m=\u001b[39m np\u001b[38;5;241m.\u001b[39mmean(pineapple, axis\u001b[38;5;241m=\u001b[39m\u001b[38;5;241m0\u001b[39m)\u001b[38;5;241m.\u001b[39mreshape(\u001b[38;5;241m100\u001b[39m, \u001b[38;5;241m100\u001b[39m)\n\u001b[0;32m      4\u001b[0m banana_mean \u001b[38;5;241m=\u001b[39m np\u001b[38;5;241m.\u001b[39mmean(banana, axis\u001b[38;5;241m=\u001b[39m\u001b[38;5;241m0\u001b[39m)\u001b[38;5;241m.\u001b[39mreshape(\u001b[38;5;241m100\u001b[39m, \u001b[38;5;241m100\u001b[39m)\n",
      "\u001b[1;31mNameError\u001b[0m: name 'np' is not defined"
     ]
    }
   ],
   "source": [
    "# 픽셀 평균을 이미지로 출력\n",
    "apple_mean = np.mean(apple, axis=0).reshape(100, 100)\n",
    "pineapple_mean = np.mean(pineapple, axis=0).reshape(100, 100)\n",
    "banana_mean = np.mean(banana, axis=0).reshape(100, 100)\n",
    "fig, axs = plt.subplots(1, 3, figsize=(20,5))\n",
    "axs[0].imshow(apple_mean, cmap='gray_r')\n",
    "axs[1].imshow(pineapple_mean, cmap='gray_r')\n",
    "axs[2].imshow(banana_mean, cmap='gray_r')\n",
    "plt.show()"
   ]
  },
  {
   "cell_type": "code",
   "execution_count": null,
   "id": "3b478876",
   "metadata": {},
   "outputs": [],
   "source": [
    "# 평균에 가까운 사진 고르기\n",
    "abs_diff = np.abs(fruits - apple_mean)\n",
    "abs_mean = np.mean(abs_diff, axis=(1,2))\n",
    "print(abs_mean.shape)"
   ]
  },
  {
   "cell_type": "code",
   "execution_count": null,
   "id": "a010f994",
   "metadata": {},
   "outputs": [],
   "source": [
    "# 10x10 그래프\n",
    "apple_index = np.argsort(abs_mean)[:100]\n",
    "fig, axs = plt.subplots(10, 10, figsize=(10, 10))\n",
    "for i in range(10):\n",
    "    for j in range(10):\n",
    "        axs[i, j].imshow(fruits[apple_index[i*10+j]], cmap='gray_r')\n",
    "        axs[i, j].axis('off')\n",
    "plt.show()"
   ]
  },
  {
   "cell_type": "code",
   "execution_count": null,
   "id": "319a56f9",
   "metadata": {},
   "outputs": [],
   "source": []
  },
  {
   "cell_type": "code",
   "execution_count": null,
   "id": "1039afbe",
   "metadata": {},
   "outputs": [],
   "source": []
  },
  {
   "cell_type": "code",
   "execution_count": null,
   "id": "3e9dd217",
   "metadata": {},
   "outputs": [],
   "source": []
  },
  {
   "cell_type": "code",
   "execution_count": null,
   "id": "708bd7b8",
   "metadata": {},
   "outputs": [],
   "source": []
  },
  {
   "cell_type": "code",
   "execution_count": null,
   "id": "aa1aa0d8",
   "metadata": {},
   "outputs": [],
   "source": []
  },
  {
   "cell_type": "code",
   "execution_count": null,
   "id": "f138d584",
   "metadata": {},
   "outputs": [],
   "source": []
  },
  {
   "cell_type": "code",
   "execution_count": null,
   "id": "a1fb5db8",
   "metadata": {},
   "outputs": [],
   "source": []
  },
  {
   "cell_type": "code",
   "execution_count": null,
   "id": "2d011034",
   "metadata": {},
   "outputs": [],
   "source": []
  },
  {
   "cell_type": "code",
   "execution_count": null,
   "id": "04989eb6",
   "metadata": {},
   "outputs": [],
   "source": []
  },
  {
   "cell_type": "code",
   "execution_count": null,
   "id": "9f46f56c",
   "metadata": {},
   "outputs": [],
   "source": []
  }
 ],
 "metadata": {
  "kernelspec": {
   "display_name": "Python 3 (ipykernel)",
   "language": "python",
   "name": "python3"
  },
  "language_info": {
   "codemirror_mode": {
    "name": "ipython",
    "version": 3
   },
   "file_extension": ".py",
   "mimetype": "text/x-python",
   "name": "python",
   "nbconvert_exporter": "python",
   "pygments_lexer": "ipython3",
   "version": "3.10.9"
  }
 },
 "nbformat": 4,
 "nbformat_minor": 5
}
