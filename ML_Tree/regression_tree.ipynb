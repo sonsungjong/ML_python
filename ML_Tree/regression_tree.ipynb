{
 "cells": [
  {
   "cell_type": "code",
   "execution_count": null,
   "id": "b0001575",
   "metadata": {},
   "outputs": [],
   "source": [
    "import subprocess\n",
    "import sys\n",
    "from pathlib import Path\n",
    "import importlib\n",
    "\n",
    "def install_from_requirements(req_file: str = \"requirements.txt\"):\n",
    "    \"\"\"\n",
    "        requirements.txt 파일을 읽어서\n",
    "        비어있거나 주석(#)인 줄을 건너 뛰고,\n",
    "        나머지를 pip install 설치한다\n",
    "    \"\"\"\n",
    "    path = Path(req_file)\n",
    "    if not path.is_file():\n",
    "        print(f\"ERROR: `{req_file}` 파일을 찾을 수 없습니다.\")\n",
    "        sys.exit(1)\n",
    "    \n",
    "    with path.open(encoding=\"UTF-8\") as f:\n",
    "        lines = [line.strip() for line in f]\n",
    "    pkgs = [line for line in lines if line and not line.startswith(\"#\")]\n",
    "\n",
    "    if not pkgs:\n",
    "        print(\"설치할 패키지가 없습니다.\")\n",
    "        return\n",
    "\n",
    "    for spec in pkgs:\n",
    "        print(f\"Installing {spec} ...\")\n",
    "        subprocess.check_call([sys.executable, \"-m\", \"pip\", \"install\", spec])\n"
   ]
  },
  {
   "cell_type": "code",
   "execution_count": 2,
   "id": "8a34c08f",
   "metadata": {},
   "outputs": [
    {
     "name": "stdout",
     "output_type": "stream",
     "text": [
      "Installing numpy==1.26.0 ...\n",
      "Installing pandas>=2.2.3 ...\n",
      "Installing matplotlib>=3.10.1 ...\n",
      "Installing notebook ...\n",
      "Installing seaborn==0.13.2 ...\n"
     ]
    }
   ],
   "source": [
    "install_from_requirements()"
   ]
  },
  {
   "cell_type": "code",
   "execution_count": 3,
   "id": "e175c7f9",
   "metadata": {},
   "outputs": [],
   "source": [
    "import numpy as np\n",
    "import pandas as pd\n",
    "import seaborn as sns\n",
    "import matplotlib.pyplot as plt"
   ]
  },
  {
   "cell_type": "code",
   "execution_count": 10,
   "id": "9ffc9b4c",
   "metadata": {},
   "outputs": [
    {
     "name": "stdout",
     "output_type": "stream",
     "text": [
      "<class 'pandas.core.frame.DataFrame'>\n",
      "RangeIndex: 506 entries, 0 to 505\n",
      "Data columns (total 18 columns):\n",
      " #   Column               Non-Null Count  Dtype  \n",
      "---  ------               --------------  -----  \n",
      " 0   Marketing expense    506 non-null    float64\n",
      " 1   Production expense   506 non-null    float64\n",
      " 2   Multiplex coverage   506 non-null    float64\n",
      " 3   Budget               506 non-null    float64\n",
      " 4   Movie_length         506 non-null    float64\n",
      " 5   Lead_ Actor_Rating   506 non-null    float64\n",
      " 6   Lead_Actress_rating  506 non-null    float64\n",
      " 7   Director_rating      506 non-null    float64\n",
      " 8   Producer_rating      506 non-null    float64\n",
      " 9   Critic_rating        506 non-null    float64\n",
      " 10  Trailer_views        506 non-null    int64  \n",
      " 11  3D_available         506 non-null    object \n",
      " 12  Time_taken           494 non-null    float64\n",
      " 13  Twitter_hastags      506 non-null    float64\n",
      " 14  Genre                506 non-null    object \n",
      " 15  Avg_age_actors       506 non-null    int64  \n",
      " 16  Num_multiplex        506 non-null    int64  \n",
      " 17  Collection           506 non-null    int64  \n",
      "dtypes: float64(12), int64(4), object(2)\n",
      "memory usage: 71.3+ KB\n",
      "None\n",
      "   Marketing expense  Production expense  Multiplex coverage     Budget  \\\n",
      "0            20.1264               59.62               0.462  36524.125   \n",
      "1            20.5462               69.14               0.531  35668.655   \n",
      "2            20.5458               69.14               0.531  39912.675   \n",
      "3            20.6474               59.36               0.542  38873.890   \n",
      "4            21.3810               59.36               0.542  39701.585   \n",
      "\n",
      "   Movie_length  Lead_ Actor_Rating  Lead_Actress_rating  Director_rating  \\\n",
      "0         138.7               7.825                8.095            7.910   \n",
      "1         152.4               7.505                7.650            7.440   \n",
      "2         134.6               7.485                7.570            7.495   \n",
      "3         119.3               6.895                7.035            6.920   \n",
      "4         127.7               6.920                7.070            6.815   \n",
      "\n",
      "   Producer_rating  Critic_rating  Trailer_views 3D_available  Time_taken  \\\n",
      "0            7.995           7.94         527367          YES      109.60   \n",
      "1            7.470           7.44         494055           NO      146.64   \n",
      "2            7.515           7.44         547051           NO      147.88   \n",
      "3            7.020           8.26         516279          YES      185.36   \n",
      "4            7.070           8.26         531448           NO      176.48   \n",
      "\n",
      "   Twitter_hastags     Genre  Avg_age_actors  Num_multiplex  Collection  \n",
      "0          223.840  Thriller              23            494       48000  \n",
      "1          243.456     Drama              42            462       43200  \n",
      "2         2022.400    Comedy              38            458       69400  \n",
      "3          225.344     Drama              45            472       66800  \n",
      "4          225.792     Drama              55            395       72400  \n"
     ]
    }
   ],
   "source": [
    "df = pd.read_csv('./Data Files/Movie_regression.csv', header=0)\n",
    "\n",
    "print(df.info())\n",
    "print(df.head(5))"
   ]
  },
  {
   "cell_type": "code",
   "execution_count": 12,
   "id": "a979f858",
   "metadata": {},
   "outputs": [
    {
     "name": "stdout",
     "output_type": "stream",
     "text": [
      "157.3914979757085\n"
     ]
    }
   ],
   "source": [
    "# missing value imputation\n",
    "avg = df['Time_taken'].mean()             # 평균\n",
    "print(avg)"
   ]
  },
  {
   "cell_type": "code",
   "execution_count": 19,
   "id": "5bed9a9f",
   "metadata": {},
   "outputs": [],
   "source": [
    "# 결측치는 평균값으로 채워넣었다 (inplace 교체)\n",
    "df['Time_taken'].fillna(value = avg, inplace = True)"
   ]
  },
  {
   "cell_type": "code",
   "execution_count": null,
   "id": "1507102f",
   "metadata": {},
   "outputs": [],
   "source": [
    "# 엑셀로 저장해보기\n",
    "import openpyxl\n",
    "df.to_excel(\"data.xlsx\", index=False)"
   ]
  },
  {
   "cell_type": "code",
   "execution_count": null,
   "id": "33101c28",
   "metadata": {},
   "outputs": [
    {
     "name": "stdout",
     "output_type": "stream",
     "text": [
      "<class 'pandas.core.frame.DataFrame'>\n",
      "RangeIndex: 506 entries, 0 to 505\n",
      "Data columns (total 18 columns):\n",
      " #   Column               Non-Null Count  Dtype  \n",
      "---  ------               --------------  -----  \n",
      " 0   Marketing expense    506 non-null    float64\n",
      " 1   Production expense   506 non-null    float64\n",
      " 2   Multiplex coverage   506 non-null    float64\n",
      " 3   Budget               506 non-null    float64\n",
      " 4   Movie_length         506 non-null    float64\n",
      " 5   Lead_ Actor_Rating   506 non-null    float64\n",
      " 6   Lead_Actress_rating  506 non-null    float64\n",
      " 7   Director_rating      506 non-null    float64\n",
      " 8   Producer_rating      506 non-null    float64\n",
      " 9   Critic_rating        506 non-null    float64\n",
      " 10  Trailer_views        506 non-null    int64  \n",
      " 11  3D_available         506 non-null    object \n",
      " 12  Time_taken           506 non-null    float64\n",
      " 13  Twitter_hastags      506 non-null    float64\n",
      " 14  Genre                506 non-null    object \n",
      " 15  Avg_age_actors       506 non-null    int64  \n",
      " 16  Num_multiplex        506 non-null    int64  \n",
      " 17  Collection           506 non-null    int64  \n",
      "dtypes: float64(12), int64(4), object(2)\n",
      "memory usage: 71.3+ KB\n"
     ]
    }
   ],
   "source": [
    "# 채워졌는지 정보 다시 확인 (row수)\n",
    "df.info()"
   ]
  },
  {
   "cell_type": "code",
   "execution_count": null,
   "id": "ebd62de9",
   "metadata": {},
   "outputs": [],
   "source": []
  },
  {
   "cell_type": "code",
   "execution_count": null,
   "id": "012ded2b",
   "metadata": {},
   "outputs": [],
   "source": []
  },
  {
   "cell_type": "code",
   "execution_count": null,
   "id": "ccd3ee65",
   "metadata": {},
   "outputs": [],
   "source": []
  },
  {
   "cell_type": "code",
   "execution_count": null,
   "id": "df25a32f",
   "metadata": {},
   "outputs": [],
   "source": []
  },
  {
   "cell_type": "code",
   "execution_count": null,
   "id": "4feae75b",
   "metadata": {},
   "outputs": [],
   "source": []
  },
  {
   "cell_type": "code",
   "execution_count": null,
   "id": "560c9ae4",
   "metadata": {},
   "outputs": [],
   "source": []
  },
  {
   "cell_type": "code",
   "execution_count": null,
   "id": "fa3d1a64",
   "metadata": {},
   "outputs": [],
   "source": []
  },
  {
   "cell_type": "code",
   "execution_count": null,
   "id": "404114af",
   "metadata": {},
   "outputs": [],
   "source": []
  }
 ],
 "metadata": {
  "kernelspec": {
   "display_name": "Python 3",
   "language": "python",
   "name": "python3"
  },
  "language_info": {
   "codemirror_mode": {
    "name": "ipython",
    "version": 3
   },
   "file_extension": ".py",
   "mimetype": "text/x-python",
   "name": "python",
   "nbconvert_exporter": "python",
   "pygments_lexer": "ipython3",
   "version": "3.12.3"
  }
 },
 "nbformat": 4,
 "nbformat_minor": 5
}
